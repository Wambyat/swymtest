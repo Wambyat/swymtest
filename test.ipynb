{
 "cells": [
  {
   "cell_type": "code",
   "execution_count": 16,
   "metadata": {},
   "outputs": [],
   "source": [
    "import pandas as pd\n",
    "import json\n",
    "import os\n",
    "import glob\n",
    "import numpy as np\n",
    "\n",
    "# read the json file\n",
    "# df_meta = pd.read_json('./meta_AMAZON_FASHION.json', lines=True)\n",
    "# df_meta.head()"
   ]
  },
  {
   "cell_type": "code",
   "execution_count": 17,
   "metadata": {},
   "outputs": [
    {
     "data": {
      "text/html": [
       "<div>\n",
       "<style scoped>\n",
       "    .dataframe tbody tr th:only-of-type {\n",
       "        vertical-align: middle;\n",
       "    }\n",
       "\n",
       "    .dataframe tbody tr th {\n",
       "        vertical-align: top;\n",
       "    }\n",
       "\n",
       "    .dataframe thead th {\n",
       "        text-align: right;\n",
       "    }\n",
       "</style>\n",
       "<table border=\"1\" class=\"dataframe\">\n",
       "  <thead>\n",
       "    <tr style=\"text-align: right;\">\n",
       "      <th></th>\n",
       "      <th>overall</th>\n",
       "      <th>verified</th>\n",
       "      <th>reviewTime</th>\n",
       "      <th>reviewerID</th>\n",
       "      <th>asin</th>\n",
       "      <th>reviewerName</th>\n",
       "      <th>reviewText</th>\n",
       "      <th>summary</th>\n",
       "      <th>unixReviewTime</th>\n",
       "      <th>vote</th>\n",
       "      <th>style</th>\n",
       "      <th>image</th>\n",
       "    </tr>\n",
       "  </thead>\n",
       "  <tbody>\n",
       "    <tr>\n",
       "      <th>0</th>\n",
       "      <td>5</td>\n",
       "      <td>True</td>\n",
       "      <td>10 20, 2014</td>\n",
       "      <td>A1D4G1SNUZWQOT</td>\n",
       "      <td>7106116521</td>\n",
       "      <td>Tracy</td>\n",
       "      <td>Exactly what I needed.</td>\n",
       "      <td>perfect replacements!!</td>\n",
       "      <td>1413763200</td>\n",
       "      <td>NaN</td>\n",
       "      <td>NaN</td>\n",
       "      <td>NaN</td>\n",
       "    </tr>\n",
       "    <tr>\n",
       "      <th>1</th>\n",
       "      <td>2</td>\n",
       "      <td>True</td>\n",
       "      <td>09 28, 2014</td>\n",
       "      <td>A3DDWDH9PX2YX2</td>\n",
       "      <td>7106116521</td>\n",
       "      <td>Sonja Lau</td>\n",
       "      <td>I agree with the other review, the opening is ...</td>\n",
       "      <td>I agree with the other review, the opening is ...</td>\n",
       "      <td>1411862400</td>\n",
       "      <td>3.0</td>\n",
       "      <td>NaN</td>\n",
       "      <td>NaN</td>\n",
       "    </tr>\n",
       "    <tr>\n",
       "      <th>2</th>\n",
       "      <td>4</td>\n",
       "      <td>False</td>\n",
       "      <td>08 25, 2014</td>\n",
       "      <td>A2MWC41EW7XL15</td>\n",
       "      <td>7106116521</td>\n",
       "      <td>Kathleen</td>\n",
       "      <td>Love these... I am going to order another pack...</td>\n",
       "      <td>My New 'Friends' !!</td>\n",
       "      <td>1408924800</td>\n",
       "      <td>NaN</td>\n",
       "      <td>NaN</td>\n",
       "      <td>NaN</td>\n",
       "    </tr>\n",
       "    <tr>\n",
       "      <th>3</th>\n",
       "      <td>2</td>\n",
       "      <td>True</td>\n",
       "      <td>08 24, 2014</td>\n",
       "      <td>A2UH2QQ275NV45</td>\n",
       "      <td>7106116521</td>\n",
       "      <td>Jodi Stoner</td>\n",
       "      <td>too tiny an opening</td>\n",
       "      <td>Two Stars</td>\n",
       "      <td>1408838400</td>\n",
       "      <td>NaN</td>\n",
       "      <td>NaN</td>\n",
       "      <td>NaN</td>\n",
       "    </tr>\n",
       "    <tr>\n",
       "      <th>4</th>\n",
       "      <td>3</td>\n",
       "      <td>False</td>\n",
       "      <td>07 27, 2014</td>\n",
       "      <td>A89F3LQADZBS5</td>\n",
       "      <td>7106116521</td>\n",
       "      <td>Alexander D.</td>\n",
       "      <td>Okay</td>\n",
       "      <td>Three Stars</td>\n",
       "      <td>1406419200</td>\n",
       "      <td>NaN</td>\n",
       "      <td>NaN</td>\n",
       "      <td>NaN</td>\n",
       "    </tr>\n",
       "  </tbody>\n",
       "</table>\n",
       "</div>"
      ],
      "text/plain": [
       "   overall  verified   reviewTime      reviewerID        asin  reviewerName  \\\n",
       "0        5      True  10 20, 2014  A1D4G1SNUZWQOT  7106116521         Tracy   \n",
       "1        2      True  09 28, 2014  A3DDWDH9PX2YX2  7106116521     Sonja Lau   \n",
       "2        4     False  08 25, 2014  A2MWC41EW7XL15  7106116521      Kathleen   \n",
       "3        2      True  08 24, 2014  A2UH2QQ275NV45  7106116521   Jodi Stoner   \n",
       "4        3     False  07 27, 2014   A89F3LQADZBS5  7106116521  Alexander D.   \n",
       "\n",
       "                                          reviewText  \\\n",
       "0                             Exactly what I needed.   \n",
       "1  I agree with the other review, the opening is ...   \n",
       "2  Love these... I am going to order another pack...   \n",
       "3                                too tiny an opening   \n",
       "4                                               Okay   \n",
       "\n",
       "                                             summary  unixReviewTime  vote  \\\n",
       "0                             perfect replacements!!      1413763200   NaN   \n",
       "1  I agree with the other review, the opening is ...      1411862400   3.0   \n",
       "2                                My New 'Friends' !!      1408924800   NaN   \n",
       "3                                          Two Stars      1408838400   NaN   \n",
       "4                                        Three Stars      1406419200   NaN   \n",
       "\n",
       "  style image  \n",
       "0   NaN   NaN  \n",
       "1   NaN   NaN  \n",
       "2   NaN   NaN  \n",
       "3   NaN   NaN  \n",
       "4   NaN   NaN  "
      ]
     },
     "execution_count": 17,
     "metadata": {},
     "output_type": "execute_result"
    }
   ],
   "source": [
    "df = pd.read_json('AMAZON_FASHION.json', lines=True)\n",
    "df.head()"
   ]
  },
  {
   "cell_type": "code",
   "execution_count": 18,
   "metadata": {},
   "outputs": [
    {
     "data": {
      "text/html": [
       "<div>\n",
       "<style scoped>\n",
       "    .dataframe tbody tr th:only-of-type {\n",
       "        vertical-align: middle;\n",
       "    }\n",
       "\n",
       "    .dataframe tbody tr th {\n",
       "        vertical-align: top;\n",
       "    }\n",
       "\n",
       "    .dataframe thead th {\n",
       "        text-align: right;\n",
       "    }\n",
       "</style>\n",
       "<table border=\"1\" class=\"dataframe\">\n",
       "  <thead>\n",
       "    <tr style=\"text-align: right;\">\n",
       "      <th></th>\n",
       "      <th>overall</th>\n",
       "      <th>verified</th>\n",
       "      <th>reviewerID</th>\n",
       "      <th>asin</th>\n",
       "      <th>reviewerName</th>\n",
       "      <th>reviewText</th>\n",
       "      <th>summary</th>\n",
       "      <th>vote</th>\n",
       "    </tr>\n",
       "  </thead>\n",
       "  <tbody>\n",
       "    <tr>\n",
       "      <th>0</th>\n",
       "      <td>5</td>\n",
       "      <td>True</td>\n",
       "      <td>A1D4G1SNUZWQOT</td>\n",
       "      <td>7106116521</td>\n",
       "      <td>Tracy</td>\n",
       "      <td>Exactly what I needed.</td>\n",
       "      <td>perfect replacements!!</td>\n",
       "      <td>NaN</td>\n",
       "    </tr>\n",
       "    <tr>\n",
       "      <th>1</th>\n",
       "      <td>2</td>\n",
       "      <td>True</td>\n",
       "      <td>A3DDWDH9PX2YX2</td>\n",
       "      <td>7106116521</td>\n",
       "      <td>Sonja Lau</td>\n",
       "      <td>I agree with the other review, the opening is ...</td>\n",
       "      <td>I agree with the other review, the opening is ...</td>\n",
       "      <td>3.0</td>\n",
       "    </tr>\n",
       "    <tr>\n",
       "      <th>2</th>\n",
       "      <td>4</td>\n",
       "      <td>False</td>\n",
       "      <td>A2MWC41EW7XL15</td>\n",
       "      <td>7106116521</td>\n",
       "      <td>Kathleen</td>\n",
       "      <td>Love these... I am going to order another pack...</td>\n",
       "      <td>My New 'Friends' !!</td>\n",
       "      <td>NaN</td>\n",
       "    </tr>\n",
       "    <tr>\n",
       "      <th>3</th>\n",
       "      <td>2</td>\n",
       "      <td>True</td>\n",
       "      <td>A2UH2QQ275NV45</td>\n",
       "      <td>7106116521</td>\n",
       "      <td>Jodi Stoner</td>\n",
       "      <td>too tiny an opening</td>\n",
       "      <td>Two Stars</td>\n",
       "      <td>NaN</td>\n",
       "    </tr>\n",
       "    <tr>\n",
       "      <th>4</th>\n",
       "      <td>3</td>\n",
       "      <td>False</td>\n",
       "      <td>A89F3LQADZBS5</td>\n",
       "      <td>7106116521</td>\n",
       "      <td>Alexander D.</td>\n",
       "      <td>Okay</td>\n",
       "      <td>Three Stars</td>\n",
       "      <td>NaN</td>\n",
       "    </tr>\n",
       "  </tbody>\n",
       "</table>\n",
       "</div>"
      ],
      "text/plain": [
       "   overall  verified      reviewerID        asin  reviewerName  \\\n",
       "0        5      True  A1D4G1SNUZWQOT  7106116521         Tracy   \n",
       "1        2      True  A3DDWDH9PX2YX2  7106116521     Sonja Lau   \n",
       "2        4     False  A2MWC41EW7XL15  7106116521      Kathleen   \n",
       "3        2      True  A2UH2QQ275NV45  7106116521   Jodi Stoner   \n",
       "4        3     False   A89F3LQADZBS5  7106116521  Alexander D.   \n",
       "\n",
       "                                          reviewText  \\\n",
       "0                             Exactly what I needed.   \n",
       "1  I agree with the other review, the opening is ...   \n",
       "2  Love these... I am going to order another pack...   \n",
       "3                                too tiny an opening   \n",
       "4                                               Okay   \n",
       "\n",
       "                                             summary  vote  \n",
       "0                             perfect replacements!!   NaN  \n",
       "1  I agree with the other review, the opening is ...   3.0  \n",
       "2                                My New 'Friends' !!   NaN  \n",
       "3                                          Two Stars   NaN  \n",
       "4                                        Three Stars   NaN  "
      ]
     },
     "execution_count": 18,
     "metadata": {},
     "output_type": "execute_result"
    }
   ],
   "source": [
    "# drop columns style,unixReviewTime, reviewTime, image\n",
    "df.drop(['style','unixReviewTime','reviewTime','image'], axis=1, inplace=True)\n",
    "df.head()"
   ]
  },
  {
   "cell_type": "code",
   "execution_count": 19,
   "metadata": {},
   "outputs": [],
   "source": [
    "# df.dtypes\n",
    "# for column in df.columns:\n",
    "#     unique_types = df[column].apply(type).unique()\n",
    "#     print(f\"Column: {column}, Unique Types: {unique_types}\")"
   ]
  },
  {
   "cell_type": "code",
   "execution_count": 20,
   "metadata": {},
   "outputs": [
    {
     "name": "stdout",
     "output_type": "stream",
     "text": [
      "Columns with NaN values:\n",
      "Index(['reviewerName', 'reviewText', 'summary', 'vote'], dtype='object')\n"
     ]
    }
   ],
   "source": [
    "columns_with_nan = df.columns[df.isna().any()]\n",
    "\n",
    "print(\"Columns with NaN values:\")\n",
    "print(columns_with_nan)"
   ]
  },
  {
   "cell_type": "code",
   "execution_count": 21,
   "metadata": {},
   "outputs": [
    {
     "name": "stdout",
     "output_type": "stream",
     "text": [
      "Columns with NaN values:\n",
      "Index([], dtype='object')\n"
     ]
    }
   ],
   "source": [
    "df[columns_with_nan] = df[columns_with_nan].fillna('')\n",
    "columns_with_nan = df.columns[df.isna().any()]\n",
    "print(\"Columns with NaN values:\")\n",
    "print(columns_with_nan)"
   ]
  },
  {
   "cell_type": "code",
   "execution_count": 22,
   "metadata": {},
   "outputs": [],
   "source": [
    "# import nltk\n",
    "# from nltk.tokenize import word_tokenize\n",
    "\n",
    "# # Assuming df is your DataFrame\n",
    "\n",
    "# # Download necessary resources for nltk (only need to run once)\n",
    "# # nltk.download('punkt')\n",
    "\n",
    "# print(\"start\")\n",
    "# # Tokenize 'reviewText' and 'summary' columns\n",
    "# df['reviewText_tokens'] = df['reviewText'].apply(word_tokenize)\n",
    "# df['summary_tokens'] = df['summary'].apply(word_tokenize)\n",
    "# print(\"end\")\n",
    "\n",
    "# # Print the first few rows of the DataFrame with tokenized columns\n",
    "# print(df[['reviewText_tokens', 'summary_tokens']].head())"
   ]
  },
  {
   "cell_type": "code",
   "execution_count": 23,
   "metadata": {},
   "outputs": [
    {
     "name": "stdout",
     "output_type": "stream",
     "text": [
      "here\n"
     ]
    }
   ],
   "source": [
    "print(\"here\")"
   ]
  },
  {
   "cell_type": "code",
   "execution_count": 24,
   "metadata": {},
   "outputs": [
    {
     "name": "stderr",
     "output_type": "stream",
     "text": [
      "[nltk_data] Downloading package vader_lexicon to\n",
      "[nltk_data]     C:\\Users\\Anirudha\\AppData\\Roaming\\nltk_data...\n"
     ]
    },
    {
     "data": {
      "text/plain": [
       "True"
      ]
     },
     "execution_count": 24,
     "metadata": {},
     "output_type": "execute_result"
    }
   ],
   "source": [
    "import nltk\n",
    "from nltk.sentiment.vader import SentimentIntensityAnalyzer\n",
    "nltk.download('vader_lexicon')"
   ]
  },
  {
   "cell_type": "code",
   "execution_count": 25,
   "metadata": {},
   "outputs": [
    {
     "name": "stdout",
     "output_type": "stream",
     "text": [
      "        overall  verified      reviewerID        asin          reviewerName  \\\n",
      "1             2      True  A3DDWDH9PX2YX2  7106116521             Sonja Lau   \n",
      "6             4      True   A7QS961ROI6E0  7106116521      REBECCA S LAYTON   \n",
      "14            4      True  A1Y36BSE9GKXLV  B00007GDFV              Ms Irish   \n",
      "15            3      True  A1L1U968VNYVA4  B00007GDFV                  J.G.   \n",
      "16            5      True  A1NSKPSR0XZ0C9  B00007GDFV                 Jules   \n",
      "...         ...       ...             ...         ...                   ...   \n",
      "883624        4     False  A2N8KZBMIY0X9J  B01HJEOBN6  fantasimms@yahoo.com   \n",
      "883627        5      True   A4DUZY9EO0O7L  B01HJHTH5U                    HC   \n",
      "883631        5      True  A1ZSB2Q144UTEY  B01HJHTH5U       Amazon Customer   \n",
      "883632        5      True  A2CCDV0J5VB6F2  B01HJHTH5U       Amazon Customer   \n",
      "883635        5      True  A2RSX9E79DUHRX  B01HJG5NMW   Natasha Mascarenhas   \n",
      "\n",
      "                                               reviewText  \\\n",
      "1       I agree with the other review, the opening is ...   \n",
      "6       These little plastic backs work great.  No mor...   \n",
      "14      Received the case in less than a week...was ve...   \n",
      "15      Love it but it tore up shortly after I got it....   \n",
      "16      I love it it is just what I was looking for th...   \n",
      "...                                                   ...   \n",
      "883624  I really love this dress and so happy I bought...   \n",
      "883627  I wore this to a formal fundraising event and ...   \n",
      "883631  I absolutely love this dress!!  It's sexy and ...   \n",
      "883632  I'm 5'6 175lbs. I'm on the tall side. I wear a...   \n",
      "883635  Ordered and was slightly small. Worked with th...   \n",
      "\n",
      "                                                  summary vote  \\\n",
      "1       I agree with the other review, the opening is ...  3.0   \n",
      "6                                            Works great!        \n",
      "14                                          Great bargain  2.0   \n",
      "15         Love it but it tore up shortly after I got ...        \n",
      "16                   Perfect just what I was looking for!        \n",
      "...                                                   ...  ...   \n",
      "883624                                           Love It!        \n",
      "883627                                           Perfect!        \n",
      "883631                       I absolutely love this dress        \n",
      "883632  I wear a large and ordered a large and it stil...  2.0   \n",
      "883635         The quality is excellent and it is so cute        \n",
      "\n",
      "        reviewText_sentiment  summary_sentiment  \n",
      "1                     0.1901             0.3612  \n",
      "6                     0.7883             0.6588  \n",
      "14                    0.0880             0.7096  \n",
      "15                    0.8500             0.3818  \n",
      "16                    0.7901             0.6114  \n",
      "...                      ...                ...  \n",
      "883624                0.9939             0.6696  \n",
      "883627                0.6114             0.6114  \n",
      "883631                0.9726             0.6697  \n",
      "883632                0.8516             0.5106  \n",
      "883635                0.9034             0.8208  \n",
      "\n",
      "[356606 rows x 10 columns]\n"
     ]
    }
   ],
   "source": [
    "sid = SentimentIntensityAnalyzer()\n",
    "\n",
    "# Calculate sentiment scores for 'reviewText' and 'summary'\n",
    "df['reviewText_sentiment'] = df['reviewText'].apply(lambda x: sid.polarity_scores(x)['compound'])\n",
    "df['summary_sentiment'] = df['summary'].apply(lambda x: sid.polarity_scores(x)['compound'])\n",
    "\n",
    "# Filter rows with positive sentiment in both 'reviewText' and 'summary'\n",
    "positive_reviews_df = df[(df['reviewText_sentiment'] > 0) & (df['summary_sentiment'] > 0)]\n",
    "\n",
    "# Print the resulting DataFrame with positive reviews\n",
    "print(positive_reviews_df)"
   ]
  }
 ],
 "metadata": {
  "kernelspec": {
   "display_name": "Python 3",
   "language": "python",
   "name": "python3"
  },
  "language_info": {
   "codemirror_mode": {
    "name": "ipython",
    "version": 3
   },
   "file_extension": ".py",
   "mimetype": "text/x-python",
   "name": "python",
   "nbconvert_exporter": "python",
   "pygments_lexer": "ipython3",
   "version": "3.11.4"
  },
  "orig_nbformat": 4
 },
 "nbformat": 4,
 "nbformat_minor": 2
}
